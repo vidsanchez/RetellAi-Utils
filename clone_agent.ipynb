{
  "cells": [
    {
      "cell_type": "markdown",
      "metadata": {
        "id": "view-in-github",
        "colab_type": "text"
      },
      "source": [
        "<a href=\"https://colab.research.google.com/github/vidsanchez/RetellAi-Utils/blob/main/clone_agent.ipynb\" target=\"_parent\"><img src=\"https://colab.research.google.com/assets/colab-badge.svg\" alt=\"Open In Colab\"/></a>"
      ]
    },
    {
      "cell_type": "markdown",
      "source": [
        "# **Clone Retell AI Agent**"
      ],
      "metadata": {
        "id": "VKlcIPUUTKKR"
      },
      "id": "VKlcIPUUTKKR"
    },
    {
      "cell_type": "code",
      "source": [
        "# @title Get the variables (Source API key, Source Agent ID and Destination API key)\n",
        "apikey_source = input(\"Source API key: \")\n",
        "agent_id_source = input(\"Source Agent ID: \")\n",
        "apikey_destination = input(\"Destination API key: \")"
      ],
      "metadata": {
        "id": "bb3wqVpqO6k6",
        "cellView": "form"
      },
      "id": "bb3wqVpqO6k6",
      "execution_count": null,
      "outputs": []
    },
    {
      "cell_type": "code",
      "execution_count": 7,
      "id": "62e587e7",
      "metadata": {
        "id": "62e587e7",
        "cellView": "form"
      },
      "outputs": [],
      "source": [
        "# @title clone_agent function definition\n",
        "import requests\n",
        "import json\n",
        "import sys\n",
        "\n",
        "def clone_agent(apikey_origen, agent_id, apikey_destino):\n",
        "    # Step 1. Get the agent configuration from the source agent_id\n",
        "    agent_url = f'https://api.retellai.com/get-agent/{agent_id}'\n",
        "    headers_origen = {'Authorization': f'Bearer {apikey_origen}'}\n",
        "\n",
        "\n",
        "    response = requests.get(agent_url, headers=headers_origen)\n",
        "    if response.status_code != 200:\n",
        "        print(f\"Error getting agent: {response.status_code}, {response.text}\")\n",
        "        return\n",
        "    agent_data = response.json()\n",
        "    print(f\"Agent retrieved: {agent_data['agent_id']}\")\n",
        "\n",
        "    # Extract the llm_id from the agent data\n",
        "    llm_id = None\n",
        "    if 'llm_id' in agent_data:\n",
        "        llm_id = agent_data['llm_id']\n",
        "    elif 'response_engine' in agent_data and 'llm_id' in agent_data['response_engine']:\n",
        "        llm_id = agent_data['response_engine']['llm_id']\n",
        "    else:\n",
        "        print(\"llm_id not found in agent data\")\n",
        "        return\n",
        "\n",
        "    # Step 2: Get the llm configuration\n",
        "    llm_url = f'https://api.retellai.com/get-retell-llm/{llm_id}'\n",
        "    response = requests.get(llm_url, headers=headers_origen)\n",
        "    if response.status_code != 200:\n",
        "        print(f\"Error getting LLM: {response.status_code}, {response.text}\")\n",
        "        return\n",
        "    llm_data = response.json()\n",
        "    print(f\"LLM retrieved: {llm_id}\")\n",
        "\n",
        "    # Step 3: Create a new llm in the destination account\n",
        "    llm_fields = [\n",
        "        \"model\",\n",
        "        \"temperature\",\n",
        "        \"use_structured_output\",\n",
        "        \"general_prompt\",\n",
        "        \"general_tools\",\n",
        "        \"states\",\n",
        "        \"starting_state\",\n",
        "        \"first_message\",\n",
        "        \"inbound_call_webhook\",\n",
        "        \"knowledge_base_ids\"\n",
        "    ]\n",
        "    llm_create_data = {}\n",
        "    for field in llm_fields:\n",
        "        if field in llm_data:\n",
        "            llm_create_data[field] = llm_data[field]\n",
        "\n",
        "    llm_create_url = 'https://api.retellai.com/create-retell-llm'\n",
        "    headers_destino = {'Authorization': f'Bearer {apikey_destino}', 'Content-Type': 'application/json'}\n",
        "    response = requests.post(llm_create_url, headers=headers_destino, json=llm_create_data)\n",
        "    if response.status_code != 201:\n",
        "        print(f\"Error creating LLM: {response.status_code}, {response.text}\")\n",
        "        return\n",
        "    new_llm_data = response.json()\n",
        "    new_llm_id = new_llm_data.get('llm_id')\n",
        "    if not new_llm_id:\n",
        "        print(\"Failed to retrieve new LLM ID\")\n",
        "        return\n",
        "    print(f\"LLM created: {new_llm_id}\")\n",
        "\n",
        "    # Step 4: Create a new agent in the destination account\n",
        "    agent_fields = [\n",
        "        \"agent_name\",\n",
        "        \"voice_id\",\n",
        "        \"voice_model\",\n",
        "        \"voice_fallback_ids\",\n",
        "        \"voice_temperature\",\n",
        "        \"voice_speed\",\n",
        "        \"volume\",\n",
        "        \"responsiveness\",\n",
        "        \"interruption_sensitivity\",\n",
        "        \"enable_backchannel\",\n",
        "        \"backchannel_frequency\",\n",
        "        \"backchannel_words\",\n",
        "        \"reminder_trigger_ms\",\n",
        "        \"reminder_max_count\",\n",
        "        \"ambient_sound\",\n",
        "        \"ambient_sound_volume\",\n",
        "        \"language\",\n",
        "        \"webhook_url\",\n",
        "        \"boosted_keywords\",\n",
        "        \"enable_transcription_formatting\",\n",
        "        \"opt_out_sensitive_data_storage\",\n",
        "        \"pronunciation_dictionary\",\n",
        "        \"normalize_for_speech\",\n",
        "        \"end_call_after_silence_ms\",\n",
        "        \"max_call_duration_ms\",\n",
        "        \"enable_voicemail_detection\",\n",
        "        \"voicemail_message\",\n",
        "        \"voicemail_detection_timeout_ms\",\n",
        "        \"post_call_analysis_data\"\n",
        "    ]\n",
        "    agent_create_data = {\"response_engine\": {\"type\": \"retell-llm\", \"llm_id\": new_llm_id}}\n",
        "    for field in agent_fields:\n",
        "        if field in agent_data:\n",
        "            agent_create_data[field] = agent_data[field]\n",
        "\n",
        "    agent_create_url = 'https://api.retellai.com/create-agent'\n",
        "    response = requests.post(agent_create_url, headers=headers_destino, json=agent_create_data)\n",
        "    if response.status_code != 201:\n",
        "        print(f\"Error creating agent: {response.status_code}, {response.text}\")\n",
        "        return\n",
        "    new_agent_data = response.json()\n",
        "\n",
        "    new_agent_id = new_agent_data.get('agent_id')\n",
        "    if not new_agent_id:\n",
        "        print(\"Failed to retrieve new agent ID\")\n",
        "        return\n",
        "\n",
        "    print(f\"New agent created with ID: {new_agent_id}\")\n"
      ]
    },
    {
      "cell_type": "code",
      "source": [
        "# @title Clone Agent\n",
        "clone_agent(apikey_source, agent_id_source, apikey_destination)"
      ],
      "metadata": {
        "cellView": "form",
        "id": "Nm9ILOIWSfEE"
      },
      "id": "Nm9ILOIWSfEE",
      "execution_count": null,
      "outputs": []
    }
  ],
  "metadata": {
    "colab": {
      "provenance": [],
      "include_colab_link": true
    },
    "language_info": {
      "name": "python"
    },
    "kernelspec": {
      "name": "python3",
      "display_name": "Python 3"
    }
  },
  "nbformat": 4,
  "nbformat_minor": 5
}